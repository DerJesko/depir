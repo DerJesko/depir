{
 "cells": [
  {
   "cell_type": "code",
   "execution_count": 2,
   "metadata": {},
   "outputs": [],
   "source": [
    "from sage.misc.prandom import randint\n",
    "from sage.rings.all import ZZ, Zmod, PolynomialRing, GF\n",
    "from sage.arith.all import next_prime, euler_phi, crt, xgcd\n",
    "from sage.functions.log import log\n",
    "from sage.functions.other import ceil\n",
    "from sage.misc.functional import cyclotomic_polynomial, round\n",
    "import numpy as np\n",
    "from random import randint"
   ]
  },
  {
   "cell_type": "markdown",
   "metadata": {},
   "source": [
    "# Parameter Generation"
   ]
  },
  {
   "cell_type": "code",
   "execution_count": 3,
   "metadata": {},
   "outputs": [],
   "source": [
    "d = 3\n",
    "m = 3\n",
    "N = 2**12\n",
    "n = euler_phi(N)\n",
    "log_q = 20 # weird sagemath behavior when this gets too big ca 50\n",
    "evaluation_degree = d*m\n",
    "D = d*m\n",
    "tiny_primes = [2,3,5,7,11,13,17,19,23,29]\n",
    "tiny_prime_product = 1\n",
    "for prime in tiny_primes:\n",
    "    tiny_prime_product *= prime"
   ]
  },
  {
   "cell_type": "code",
   "execution_count": 4,
   "metadata": {},
   "outputs": [],
   "source": [
    "var('Z')\n",
    "g = cyclotomic_polynomial(N, var='Z')"
   ]
  },
  {
   "cell_type": "code",
   "execution_count": 5,
   "metadata": {},
   "outputs": [
    {
     "data": {
      "text/plain": [
       "[12289, 40961]"
      ]
     },
     "execution_count": 5,
     "metadata": {},
     "output_type": "execute_result"
    }
   ],
   "source": [
    "primes = []\n",
    "q = 1\n",
    "i = 1\n",
    "while log(q,2).n()<log_q:\n",
    "    p = N*i+1\n",
    "    if p.is_prime():\n",
    "        q *= p\n",
    "        primes.append(p)\n",
    "    i += 1\n",
    "primes"
   ]
  },
  {
   "cell_type": "code",
   "execution_count": 6,
   "metadata": {},
   "outputs": [
    {
     "data": {
      "text/plain": [
       "28.9070432192714"
      ]
     },
     "execution_count": 6,
     "metadata": {},
     "output_type": "execute_result"
    }
   ],
   "source": [
    "log(q,2).n()"
   ]
  },
  {
   "cell_type": "code",
   "execution_count": 7,
   "metadata": {},
   "outputs": [],
   "source": [
    "Z_q = Zmod(q)\n",
    "Q = Z_q['Z'].quo(g,Z)"
   ]
  },
  {
   "cell_type": "code",
   "execution_count": 8,
   "metadata": {},
   "outputs": [],
   "source": [
    "var('Y')\n",
    "h = ZZ['Y'](1)\n",
    "monomials = []\n",
    "assert D < primes[0]\n",
    "for i in range(D):\n",
    "    mon = (ZZ[Y](Y) - ZZ[Y](i))\n",
    "    h *= mon\n",
    "    monomials.append(mon)\n",
    "R = Q['Y'].quo(h,Y)"
   ]
  },
  {
   "cell_type": "markdown",
   "metadata": {},
   "source": [
    "# BV11"
   ]
  },
  {
   "cell_type": "code",
   "execution_count": null,
   "metadata": {},
   "outputs": [],
   "source": [
    "s = Q.random_element()"
   ]
  },
  {
   "cell_type": "code",
   "execution_count": null,
   "metadata": {},
   "outputs": [],
   "source": [
    "def encrypt(s,mu):\n",
    "    assert mu in Z_q\n",
    "    assert s in Q\n",
    "    a = R(Q.random_element())\n",
    "    \n",
    "    # TODO make the noise real\n",
    "    e = randint(0,2)\n",
    "\n",
    "    b = a*R(s)+d*e+mu\n",
    "    return -a*R(Y)+b"
   ]
  },
  {
   "cell_type": "code",
   "execution_count": null,
   "metadata": {},
   "outputs": [],
   "source": [
    "c1 = encrypt(s,1)\n",
    "c2 = encrypt(s,2)\n",
    "c = c1 * c2"
   ]
  },
  {
   "cell_type": "code",
   "execution_count": null,
   "metadata": {},
   "outputs": [],
   "source": [
    "def decrypt(s,c):\n",
    "    a = Q(c.lift()(Y=s)).lift()(Z=0).lift()\n",
    "    return mod(a,d)"
   ]
  },
  {
   "cell_type": "code",
   "execution_count": null,
   "metadata": {},
   "outputs": [],
   "source": [
    "decrypt(s,c)"
   ]
  },
  {
   "cell_type": "markdown",
   "metadata": {},
   "source": [
    "# Database Interpolation"
   ]
  },
  {
   "cell_type": "code",
   "execution_count": null,
   "metadata": {},
   "outputs": [],
   "source": [
    "P = PolynomialRing(GF(d),m,'x')\n",
    "vars = P.gens()\n",
    "vars"
   ]
  },
  {
   "cell_type": "code",
   "execution_count": null,
   "metadata": {},
   "outputs": [],
   "source": [
    "a=np.array([[[1,1,0],[2,0,1],[2,0,1]],[[1,1,1],[0,0,2],[2,0,1]],[[1,1,1],[0,0,2],[2,0,1]]],dtype=np.int64)\n",
    "b=[1,5,3]\n",
    "def multivariate_interpolation(a, vars, m):\n",
    "    # assertion: a is an m dimensional cube with length d\n",
    "    if m==1:\n",
    "        return GF(d)[vars[0]].lagrange_polynomial([(i,a[i])for i in range(d)])\n",
    "    else:\n",
    "        cs = np.zeros(tuple([d]*m), dtype=np.int64)\n",
    "        for x in GF(d)**(m-1):\n",
    "            g_x = GF(d)[vars[-1]].lagrange_polynomial([(i,a[tuple(x)][i])for i in range(d)])\n",
    "            c_x = g_x.list()\n",
    "            for i in range(len(c_x)):\n",
    "                cs[tuple(x)][i] = c_x[i]\n",
    "\n",
    "        f_is = []\n",
    "        f = 0\n",
    "        for i in GF(d):\n",
    "            f_i = multivariate_interpolation(cs[..., i], vars[:-1], m-1)\n",
    "            f_is.append(f_i)\n",
    "            f += f_i * vars[-1]**i\n",
    "        return f\n",
    "f = multivariate_interpolation(a,vars,3)\n",
    "print(f)\n",
    "f(0,1,0)"
   ]
  },
  {
   "cell_type": "markdown",
   "metadata": {},
   "source": [
    "# Eval"
   ]
  },
  {
   "cell_type": "code",
   "execution_count": null,
   "metadata": {},
   "outputs": [],
   "source": [
    "def normal_eval(Q,f,cs):\n",
    "    f_prime =f.change_ring(Q)\n",
    "    return f_prime(cs)"
   ]
  },
  {
   "cell_type": "code",
   "execution_count": null,
   "metadata": {},
   "outputs": [],
   "source": [
    "normal_eval(R,f,[c1,c2,c1])"
   ]
  },
  {
   "cell_type": "code",
   "execution_count": null,
   "metadata": {},
   "outputs": [],
   "source": [
    "def split_R_q(R_q_element):\n",
    "    return [Zmod(prime)[Y,Z](R_q_element) for prime in primes]\n",
    "\n",
    "def combine_R_q(R_p_elements):\n",
    "    return Z_q[Y,Z](crt([ZZ[Y,Z](c) for c in R_p_elements],primes))"
   ]
  },
  {
   "cell_type": "code",
   "execution_count": null,
   "metadata": {},
   "outputs": [],
   "source": [
    "def split_R_p(R_p_element,p):\n",
    "    return [Zmod(p)[Y,Z].quo(mon)(R_p_element.lift()) for mon in monomials]\n",
    "\n",
    "def combine_R_p(Q_p_elements):\n",
    "    Z_p = Zmod(p)\n",
    "    bezout_coefficients = []\n",
    "    for i in range(len(monomials)):\n",
    "        unit_i_vector = [1 if i == j else 0 for j in range(len(monomials))]\n",
    "        bezout_coefficients.append(Z_p[Y,Z](crt(unit_i_vector,[Z_p[Y](mon) for mon in monomials])))\n",
    "    #TODO above this should move to precomputation\n",
    "    result = Z_p[Y,Z](0)\n",
    "    for i in range(len(Q_p_elements)):\n",
    "        result += Q_p_elements[i].lift()*bezout_coefficients[i]\n",
    "    return R(result)"
   ]
  },
  {
   "cell_type": "code",
   "execution_count": null,
   "metadata": {},
   "outputs": [],
   "source": [
    "def split_Q_p(Q_p_element,p):\n",
    "    Z_p = Zmod(p)\n",
    "    w_n = Z_p.multiplicative_generator()**((p-1)//N)\n",
    "    assert w_n.multiplicative_order() == N\n",
    "    frac_ps = [Z_p[Z](Z)-Z_p[Z](w_n**i) for i in Zmod(N).list_of_elements_of_multiplicative_group()]\n",
    "    #TODO above this should move to precomputation\n",
    "    return [Z_p[Z].quo(frac_p,Z)(Q_p_element) for frac_p in frac_ps]\n",
    "\n",
    "def combine_Q_p(Z_p_elements,p):\n",
    "    Z_p = Zmod(p)\n",
    "    w_n = Z_p.multiplicative_generator()**((p-1)//N)\n",
    "    assert w_n.multiplicative_order() == N\n",
    "    frac_ps = [Z_p[Z](Z)-Z_p[Z](w_n**i) for i in Zmod(N).list_of_elements_of_multiplicative_group()]\n",
    "    #TODO above this should move to precomputation\n",
    "    #TODO move bezout coefficient computation to precomputation\n",
    "    return Q(crt([c.lift() for c in Z_p_elements],frac_ps))\n"
   ]
  },
  {
   "cell_type": "code",
   "execution_count": null,
   "metadata": {},
   "outputs": [],
   "source": [
    "def split_Z(Z_element,upper_bound):\n",
    "    assert Z_element <= upper_bound\n",
    "    assert upper_bound < tiny_prime_product\n",
    "    i = 0\n",
    "    while used_primes_product < upper_bound:\n",
    "        used_primes_product *= tiny_primes[i]\n",
    "        i += 1\n",
    "    #TODO above this should move to precomputation\n",
    "    return [Zmod(prime)(Z_element) for prime in tiny_primes[:i]]\n",
    "\n",
    "def combine_Z(tiny_Z_elements,upper_bound):\n",
    "    assert tiny_Z_elements <= upper_bound\n",
    "    assert upper_bound < tiny_prime_product\n",
    "    used_primes_product = 1\n",
    "    i = 0\n",
    "    while used_primes_product < upper_bound:\n",
    "        used_primes_product *= tiny_primes[i]\n",
    "        i += 1\n",
    "    #TODO above this should move to precomputation\n",
    "    #TODO move bezout coefficient computation to precomputation\n",
    "    return crt([ZZ(c) for c in tiny_Z_elements],tiny_primes[:i])"
   ]
  },
  {
   "cell_type": "code",
   "execution_count": null,
   "metadata": {},
   "outputs": [],
   "source": [
    "def precompute_polynomial(f,input_upper_bound):\n",
    "    return np.from_function(f,tuple([input_upper_bound]*m))"
   ]
  }
 ],
 "metadata": {
  "kernelspec": {
   "display_name": "SageMath 9.5",
   "language": "sage",
   "name": "sagemath"
  },
  "language_info": {
   "codemirror_mode": {
    "name": "ipython",
    "version": 3
   },
   "file_extension": ".py",
   "mimetype": "text/x-python",
   "name": "python",
   "nbconvert_exporter": "python",
   "pygments_lexer": "ipython3",
   "version": "3.10.6"
  },
  "vscode": {
   "interpreter": {
    "hash": "916dbcbb3f70747c44a77c7bcd40155683ae19c65e1c03b4aa3499c5328201f1"
   }
  }
 },
 "nbformat": 4,
 "nbformat_minor": 2
}
