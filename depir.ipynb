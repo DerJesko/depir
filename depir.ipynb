{
 "cells": [
  {
   "cell_type": "code",
   "execution_count": 1,
   "metadata": {},
   "outputs": [],
   "source": [
    "from sage.misc.prandom import randint\n",
    "from sage.rings.all import ZZ, IntegerModRing, RR, PolynomialRing, GF\n",
    "from sage.arith.all import next_prime, euler_phi, crt\n",
    "from sage.misc.functional import cyclotomic_polynomial, round\n",
    "from random import randint"
   ]
  },
  {
   "cell_type": "markdown",
   "metadata": {},
   "source": [
    "# Parameter Generation"
   ]
  },
  {
   "cell_type": "code",
   "execution_count": 2,
   "metadata": {},
   "outputs": [],
   "source": [
    "d = 3\n",
    "m = 3"
   ]
  },
  {
   "cell_type": "code",
   "execution_count": 3,
   "metadata": {},
   "outputs": [],
   "source": [
    "log_q = 5\n",
    "primes = [2]\n",
    "q = 2\n",
    "for i in range(1,log_q):\n",
    "    p = next_prime(primes[-1])\n",
    "    primes.append(p)\n",
    "    q *= p"
   ]
  },
  {
   "cell_type": "code",
   "execution_count": null,
   "metadata": {},
   "outputs": [],
   "source": [
    "#testin cell\n",
    "q =29"
   ]
  },
  {
   "cell_type": "code",
   "execution_count": 4,
   "metadata": {},
   "outputs": [],
   "source": [
    "N = 2**5\n",
    "var('Z')\n",
    "g = cyclotomic_polynomial(N, var='Z')\n",
    "\n",
    "Z_q = IntegerModRing(q)\n",
    "Q = Z_q['Z'].quo(g,Z)"
   ]
  },
  {
   "cell_type": "code",
   "execution_count": 5,
   "metadata": {},
   "outputs": [
    {
     "data": {
      "text/plain": [
       "32"
      ]
     },
     "execution_count": 5,
     "metadata": {},
     "output_type": "execute_result"
    }
   ],
   "source": [
    "N"
   ]
  },
  {
   "cell_type": "code",
   "execution_count": 6,
   "metadata": {},
   "outputs": [],
   "source": [
    "D = d*m\n",
    "var('Y')\n",
    "monomials = [Z_q['Z','Y'](Y+1)]\n",
    "h = Q['Y'](Y+1)\n",
    "for i in range(2,D):\n",
    "    mon = Q['Y'](Y+i)\n",
    "    monomials.append(mon)\n",
    "    h *= mon\n",
    "\n",
    "R = Z_q['Z','Y'].quo(g,Z).quo(h,Y)"
   ]
  },
  {
   "cell_type": "markdown",
   "metadata": {},
   "source": [
    "# BV11"
   ]
  },
  {
   "cell_type": "code",
   "execution_count": null,
   "metadata": {},
   "outputs": [],
   "source": [
    "s = Q.random_element()"
   ]
  },
  {
   "cell_type": "code",
   "execution_count": null,
   "metadata": {},
   "outputs": [],
   "source": [
    "def encrypt(s,mu):\n",
    "    assert mu in Z_q\n",
    "    assert s in Q\n",
    "    a = R(Q.random_element())\n",
    "    \n",
    "    # TODO make the noise real\n",
    "    e = randint(0,2)\n",
    "\n",
    "    b = a*R(s)+d*e+mu\n",
    "    return -a*R(Y)+b"
   ]
  },
  {
   "cell_type": "code",
   "execution_count": null,
   "metadata": {},
   "outputs": [],
   "source": [
    "c1 = encrypt(s,1)\n",
    "c2 = encrypt(s,2)\n",
    "c = c1 * c2"
   ]
  },
  {
   "cell_type": "code",
   "execution_count": null,
   "metadata": {},
   "outputs": [],
   "source": [
    "def decrypt(s,c):\n",
    "    a = Q(c.lift()(Y=s)).lift()(Z=0).lift()\n",
    "    return mod(a,d)"
   ]
  },
  {
   "cell_type": "code",
   "execution_count": null,
   "metadata": {},
   "outputs": [],
   "source": [
    "decrypt(s,c)"
   ]
  },
  {
   "cell_type": "markdown",
   "metadata": {},
   "source": [
    "# Database Interpolation"
   ]
  },
  {
   "cell_type": "code",
   "execution_count": 7,
   "metadata": {},
   "outputs": [],
   "source": [
    "P = PolynomialRing(GF(d),d,\"x\")\n",
    "x = P.gens()"
   ]
  },
  {
   "cell_type": "code",
   "execution_count": 8,
   "metadata": {},
   "outputs": [],
   "source": [
    "#TODO multivariate polynomial interpolation"
   ]
  },
  {
   "cell_type": "code",
   "execution_count": 9,
   "metadata": {},
   "outputs": [
    {
     "data": {
      "text/plain": [
       "-x0*x1 - x1*x2 + x0"
      ]
     },
     "execution_count": 9,
     "metadata": {},
     "output_type": "execute_result"
    }
   ],
   "source": [
    "f = P(x[0]*x[1]*2+x[1]*3+x[0]*4+x[2]*x[1]*5)\n",
    "f"
   ]
  },
  {
   "cell_type": "markdown",
   "metadata": {},
   "source": [
    "# Eval"
   ]
  },
  {
   "cell_type": "code",
   "execution_count": null,
   "metadata": {},
   "outputs": [],
   "source": [
    "def normal_eval(f,cs):\n",
    "    f_prime =f.change_ring(R)\n",
    "    return f_prime(cs)"
   ]
  },
  {
   "cell_type": "code",
   "execution_count": null,
   "metadata": {},
   "outputs": [],
   "source": [
    "normal_eval(f,[c1,c2,c1])"
   ]
  },
  {
   "cell_type": "code",
   "execution_count": null,
   "metadata": {},
   "outputs": [],
   "source": [
    "assert q.is_prime()\n",
    "def split_eval_R(f,cs):\n",
    "    print(Z_q.is_field())\n",
    "    \"\"\"\n",
    "    ys = []\n",
    "    for mon in monomials:\n",
    "        R_reduced = Z_q['Z'],'Y'].quo(g,Z).quo(mon,Y)\n",
    "        f_prime = f.change_ring(R_reduced)\n",
    "        cs_reduced = [R_reduced(c.lift()) for c in cs]\n",
    "        y_prime = f_prime(cs_reduced).lift()\n",
    "        ys.append(y_prime)\n",
    "    print(monomials[0].parent())\n",
    "    print(monomials[0])\n",
    "    return crt(ys,monomials)\n",
    "    \"\"\"\n",
    "split_eval_R(f,[c1,c2,c1])"
   ]
  },
  {
   "cell_type": "markdown",
   "metadata": {},
   "source": [
    "# Testing Eval"
   ]
  },
  {
   "cell_type": "code",
   "execution_count": null,
   "metadata": {},
   "outputs": [],
   "source": [
    "def normal_eval_Z_q(f,cs):\n",
    "    f_prime =f.change_ring(Z_q)\n",
    "    return f_prime(cs)"
   ]
  },
  {
   "cell_type": "code",
   "execution_count": null,
   "metadata": {},
   "outputs": [],
   "source": [
    "h"
   ]
  },
  {
   "cell_type": "code",
   "execution_count": null,
   "metadata": {},
   "outputs": [],
   "source": [
    "h_prime = h.change_ring(Z_q)\n",
    "h_prime"
   ]
  },
  {
   "cell_type": "code",
   "execution_count": null,
   "metadata": {},
   "outputs": [],
   "source": [
    "normal_eval_Z_q(f,[Z_q(700),Z_q(200),Z_q(23)])"
   ]
  },
  {
   "cell_type": "code",
   "execution_count": null,
   "metadata": {},
   "outputs": [],
   "source": [
    "def split_eval_Z_q(f,cs):\n",
    "    ys = []\n",
    "    for prime in primes:\n",
    "        Z_p = IntegerModRing(prime)\n",
    "        f_prime = f.change_ring(Z_p)\n",
    "        cs_reduced = [Z_p(c.lift()) for c in cs]\n",
    "        y_prime = f_prime(cs_reduced).lift()\n",
    "        ys.append(y_prime)\n",
    "    return Z_q(crt(ys,primes))\n",
    "split_eval_Z_q(f,[Z_q(700),Z_q(200),Z_q(23)])"
   ]
  },
  {
   "cell_type": "markdown",
   "metadata": {},
   "source": [
    "## next"
   ]
  },
  {
   "cell_type": "code",
   "execution_count": 10,
   "metadata": {},
   "outputs": [],
   "source": [
    "def to_Z_qY(mon):\n",
    "    return Z_q['Y'](Z_q['Z','Y'](mon))"
   ]
  },
  {
   "cell_type": "code",
   "execution_count": 11,
   "metadata": {},
   "outputs": [],
   "source": [
    "h_prime = to_Z_qY(h)"
   ]
  },
  {
   "cell_type": "code",
   "execution_count": 12,
   "metadata": {},
   "outputs": [],
   "source": [
    "R_test = Z_q['Y'].quo(h_prime)"
   ]
  },
  {
   "cell_type": "code",
   "execution_count": 13,
   "metadata": {},
   "outputs": [],
   "source": [
    "def normal_eval_Z_qY(f,cs):\n",
    "    f_prime =f.change_ring(Z_q['Y'].quo(h_prime))\n",
    "    return f_prime(cs)"
   ]
  },
  {
   "cell_type": "code",
   "execution_count": 17,
   "metadata": {},
   "outputs": [
    {
     "data": {
      "text/plain": [
       "2*Ybar^2 + 1847*Ybar + 1150"
      ]
     },
     "execution_count": 17,
     "metadata": {},
     "output_type": "execute_result"
    }
   ],
   "source": [
    "normal_eval_Z_qY(f,[Z_q['Y'](Y+700),Z_q['Y'](Y + 200),Z_q['Y'](23)])"
   ]
  },
  {
   "cell_type": "code",
   "execution_count": 15,
   "metadata": {},
   "outputs": [
    {
     "data": {
      "text/plain": [
       "[Y + 1, Y + 2, Y + 3, Y + 4, Y + 5, Y + 6, Y + 7, Y + 8]"
      ]
     },
     "execution_count": 15,
     "metadata": {},
     "output_type": "execute_result"
    }
   ],
   "source": [
    "monomials"
   ]
  },
  {
   "cell_type": "code",
   "execution_count": null,
   "metadata": {},
   "outputs": [],
   "source": [
    "def split_eval_Z_qY(f,cs):\n",
    "    ys = []\n",
    "    monomials_prime = [to_Z_qY(mon) for mon in monomials]\n",
    "    for mon in monomials_prime:\n",
    "        Z_qY_prime = Z_q['Y'].quo(to_Z_qY(mon))\n",
    "        f_prime = f.change_ring(Z_qY_prime)\n",
    "        #print(cs[0].parent())\n",
    "        cs_reduced = [Z_qY_prime(c.lift()) for c in cs]\n",
    "        y_prime = f_prime(cs_reduced).lift()\n",
    "        ys.append(y_prime)\n",
    "    return crt(ys,monomials_prime)\n",
    "split_eval_Z_qY(f,[Z_q['Y'].quo(h_prime)(Y+700),Z_q['Y'].quo(h_prime)(Y + 200),Z_q['Y'].quo(h_prime)(23)])"
   ]
  },
  {
   "cell_type": "code",
   "execution_count": 4,
   "metadata": {},
   "outputs": [
    {
     "data": {
      "text/plain": [
       "Y"
      ]
     },
     "execution_count": 4,
     "metadata": {},
     "output_type": "execute_result"
    }
   ],
   "source": [
    "var('Y')"
   ]
  },
  {
   "cell_type": "code",
   "execution_count": 7,
   "metadata": {},
   "outputs": [],
   "source": [
    "H = IntegerModRing(20)['Y']"
   ]
  },
  {
   "cell_type": "code",
   "execution_count": null,
   "metadata": {},
   "outputs": [],
   "source": [
    "crt([H(7),H(8),H(6)],[H(Y+1),H(Y+2),H(Y+3)])"
   ]
  },
  {
   "cell_type": "code",
   "execution_count": null,
   "metadata": {},
   "outputs": [],
   "source": []
  }
 ],
 "metadata": {
  "kernelspec": {
   "display_name": "SageMath 9.5",
   "language": "sage",
   "name": "sagemath"
  },
  "language_info": {
   "codemirror_mode": {
    "name": "ipython",
    "version": 3
   },
   "file_extension": ".py",
   "mimetype": "text/x-python",
   "name": "python",
   "nbconvert_exporter": "python",
   "pygments_lexer": "ipython3",
   "version": "3.10.6"
  }
 },
 "nbformat": 4,
 "nbformat_minor": 2
}
