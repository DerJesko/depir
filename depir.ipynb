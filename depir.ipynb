{
 "cells": [
  {
   "cell_type": "code",
   "execution_count": null,
   "metadata": {
    "vscode": {
     "languageId": "python"
    }
   },
   "outputs": [],
   "source": [
    "from sage.misc.prandom import randint\n",
    "from sage.rings.all import ZZ, IntegerModRing, RR, PolynomialRing, GF\n",
    "from sage.arith.all import next_prime, euler_phi, crt, xgcd\n",
    "from sage.functions.log import log\n",
    "from sage.functions.other import ceil\n",
    "from sage.misc.functional import cyclotomic_polynomial, round\n",
    "import numpy as np\n",
    "from random import randint"
   ]
  },
  {
   "cell_type": "markdown",
   "metadata": {},
   "source": [
    "# Parameter Generation"
   ]
  },
  {
   "cell_type": "code",
   "execution_count": null,
   "metadata": {
    "vscode": {
     "languageId": "python"
    }
   },
   "outputs": [],
   "source": [
    "d = 3\n",
    "m = 3\n",
    "N = 2**6\n",
    "n = euler_phi(N)\n",
    "log_q = 9\n",
    "evaluation_degree = d*m\n",
    "D = d*m"
   ]
  },
  {
   "cell_type": "code",
   "execution_count": null,
   "metadata": {
    "vscode": {
     "languageId": "python"
    }
   },
   "outputs": [],
   "source": [
    "var('Z')\n",
    "g = cyclotomic_polynomial(N, var='Z')"
   ]
  },
  {
   "cell_type": "code",
   "execution_count": null,
   "metadata": {
    "vscode": {
     "languageId": "python"
    }
   },
   "outputs": [],
   "source": [
    "primes = []\n",
    "q = 1\n",
    "i = 1\n",
    "while len(primes) < 1:\n",
    "    p = N*i+1\n",
    "    if p.is_prime():\n",
    "        q *= p\n",
    "        primes.append(p)\n",
    "    i += 1\n",
    "primes"
   ]
  },
  {
   "cell_type": "code",
   "execution_count": null,
   "metadata": {
    "vscode": {
     "languageId": "python"
    }
   },
   "outputs": [],
   "source": [
    "Z_q = IntegerModRing(q)\n",
    "Q = Z_q['Z'].quo(g,Z)"
   ]
  },
  {
   "cell_type": "code",
   "execution_count": null,
   "metadata": {
    "vscode": {
     "languageId": "python"
    }
   },
   "outputs": [],
   "source": [
    "var('Y')\n",
    "h = Q['Y'](1)\n",
    "monomials = []\n",
    "assert D < q\n",
    "for i in range(D):\n",
    "    mon = (Q[Y](Y) - Q[Y](i))\n",
    "    h *= mon\n",
    "    monomials.append(mon)\n",
    "R = Q['Y'].quo(h,Y)"
   ]
  },
  {
   "cell_type": "markdown",
   "metadata": {},
   "source": [
    "# BV11"
   ]
  },
  {
   "cell_type": "code",
   "execution_count": null,
   "metadata": {
    "vscode": {
     "languageId": "python"
    }
   },
   "outputs": [],
   "source": [
    "s = Q.random_element()"
   ]
  },
  {
   "cell_type": "code",
   "execution_count": null,
   "metadata": {
    "vscode": {
     "languageId": "python"
    }
   },
   "outputs": [],
   "source": [
    "def encrypt(s,mu):\n",
    "    assert mu in Z_q\n",
    "    assert s in Q\n",
    "    a = R(Q.random_element())\n",
    "    \n",
    "    # TODO make the noise real\n",
    "    e = randint(0,2)\n",
    "\n",
    "    b = a*R(s)+d*e+mu\n",
    "    return -a*R(Y)+b"
   ]
  },
  {
   "cell_type": "code",
   "execution_count": null,
   "metadata": {
    "vscode": {
     "languageId": "python"
    }
   },
   "outputs": [],
   "source": [
    "c1 = encrypt(s,1)\n",
    "c2 = encrypt(s,2)\n",
    "c = c1 * c2"
   ]
  },
  {
   "cell_type": "code",
   "execution_count": null,
   "metadata": {
    "vscode": {
     "languageId": "python"
    }
   },
   "outputs": [],
   "source": [
    "def decrypt(s,c):\n",
    "    a = Q(c.lift()(Y=s)).lift()(Z=0).lift()\n",
    "    return mod(a,d)"
   ]
  },
  {
   "cell_type": "code",
   "execution_count": null,
   "metadata": {
    "vscode": {
     "languageId": "python"
    }
   },
   "outputs": [],
   "source": [
    "decrypt(s,c)"
   ]
  },
  {
   "cell_type": "markdown",
   "metadata": {},
   "source": [
    "# Database Interpolation"
   ]
  },
  {
   "cell_type": "code",
   "execution_count": null,
   "metadata": {
    "vscode": {
     "languageId": "python"
    }
   },
   "outputs": [],
   "source": [
    "P = PolynomialRing(GF(d),m,'x')\n",
    "vars = P.gens()\n",
    "vars[0]"
   ]
  },
  {
   "cell_type": "code",
   "execution_count": null,
   "metadata": {
    "vscode": {
     "languageId": "python"
    }
   },
   "outputs": [],
   "source": [
    "a=np.array([[1,5,3],\n",
    "[2,4,7],\n",
    "[7,8,1]])\n",
    "b=[1,5,3]\n",
    "def multivariate_interpolation(a, vars, m):\n",
    "    if m==1:\n",
    "        return GF(d)[vars[0]].lagrange_polynomial([(i,a[i])for i in range(d)])\n",
    "    else:\n",
    "        for x in GF(d)**(m-1):\n",
    "            g_x = GF(d)[vars[-1]].lagrange_polynomial([(i,a[tuple(x)][i])for i in range(d)])\n",
    "            print(g_x)\n",
    "multivariate_interpolation(a,vars,2)\n"
   ]
  },
  {
   "cell_type": "code",
   "execution_count": null,
   "metadata": {
    "vscode": {
     "languageId": "python"
    }
   },
   "outputs": [],
   "source": [
    "np.array([[1,5,3]])[[0,0]]"
   ]
  },
  {
   "cell_type": "code",
   "execution_count": null,
   "metadata": {
    "vscode": {
     "languageId": "python"
    }
   },
   "outputs": [],
   "source": [
    "f = P(x[0]*x[1]*2+x[1]*3+x[0]*4+x[2]*x[1]*5)\n",
    "f"
   ]
  },
  {
   "cell_type": "markdown",
   "metadata": {},
   "source": [
    "# Eval"
   ]
  },
  {
   "cell_type": "code",
   "execution_count": null,
   "metadata": {
    "vscode": {
     "languageId": "python"
    }
   },
   "outputs": [],
   "source": [
    "def normal_eval(Q,f,cs):\n",
    "    f_prime =f.change_ring(Q)\n",
    "    return f_prime(cs)"
   ]
  },
  {
   "cell_type": "code",
   "execution_count": null,
   "metadata": {
    "vscode": {
     "languageId": "python"
    }
   },
   "outputs": [],
   "source": [
    "normal_eval(R,f,[c1,c2,c1])"
   ]
  },
  {
   "cell_type": "code",
   "execution_count": null,
   "metadata": {
    "vscode": {
     "languageId": "python"
    }
   },
   "outputs": [],
   "source": [
    "w_n = Z_q.multiplicative_generator()**((primes[0]-1)//N)\n",
    "assert w_n.multiplicative_order() == N\n",
    "frac_qs = [Z_q[Z](Z)-Z_q[Z](w_n**i) for i in IntegerModRing(N).list_of_elements_of_multiplicative_group()]\n"
   ]
  },
  {
   "cell_type": "code",
   "execution_count": null,
   "metadata": {
    "vscode": {
     "languageId": "python"
    }
   },
   "outputs": [],
   "source": [
    "def split_Q(c):\n",
    "    return [Z_q[Z].quo(frac_q,Z)(c) for frac_q in frac_qs]\n",
    "\n",
    "def combine_Q(cs):\n",
    "    return Q(crt([c.lift() for c in cs],frac_qs))\n",
    "\n",
    "def split_eval_Q(f,cs):\n",
    "    cs_split = [split_Q(c) for c in cs]\n",
    "    result_split = []\n",
    "    for i in range(len(cs_split[0])):\n",
    "        result_split.append(normal_eval(IntegerModRing(q),f,[cs_split[j][i] for j in range(len(cs_split))]))\n",
    "    return combine_Q(result_split)\n"
   ]
  },
  {
   "cell_type": "code",
   "execution_count": null,
   "metadata": {
    "vscode": {
     "languageId": "python"
    }
   },
   "outputs": [],
   "source": [
    "CRT = []\n",
    "for i in range(len(monomials)):\n",
    "    a = [1 if i == j else 0 for j in range(len(monomials))]\n",
    "    CRT.append(Q[Y](Z_q[Y,Z](crt(a,[Z_q[Y](Z_q[Y,Z](mon)) for mon in monomials]))))"
   ]
  },
  {
   "cell_type": "code",
   "execution_count": null,
   "metadata": {
    "vscode": {
     "languageId": "python"
    }
   },
   "outputs": [],
   "source": [
    "def split_R(c):\n",
    "    return [Q[Y].quo(mon)(c.lift()) for mon in monomials]\n",
    "\n",
    "def combine_R(cs):\n",
    "    result = Q[Y](0)\n",
    "    for i in range(len(cs)):\n",
    "        result += cs[i].lift()*CRT[i]\n",
    "    return result\n",
    "    "
   ]
  },
  {
   "cell_type": "code",
   "execution_count": null,
   "metadata": {
    "vscode": {
     "languageId": "python"
    }
   },
   "outputs": [],
   "source": [
    "combine_R(split_R(c))"
   ]
  }
 ],
 "metadata": {
  "kernelspec": {
   "display_name": "SageMath 9.5",
   "language": "sage",
   "name": "sagemath"
  },
  "language_info": {
   "codemirror_mode": {
    "name": "ipython",
    "version": 3
   },
   "file_extension": ".py",
   "mimetype": "text/x-python",
   "name": "sage",
   "nbconvert_exporter": "python",
   "pygments_lexer": "ipython3",
   "version": "3.10.6"
  },
  "vscode": {
   "interpreter": {
    "hash": "916dbcbb3f70747c44a77c7bcd40155683ae19c65e1c03b4aa3499c5328201f1"
   }
  }
 },
 "nbformat": 4,
 "nbformat_minor": 2
}
